{
  "nbformat": 4,
  "nbformat_minor": 0,
  "metadata": {
    "colab": {
      "name": " Crime Against Women 2001-2014.ipynb",
      "private_outputs": true,
      "provenance": []
    },
    "kernelspec": {
      "name": "python3",
      "display_name": "Python 3"
    },
    "language_info": {
      "name": "python"
    }
  },
  "cells": [
    {
      "cell_type": "markdown",
      "metadata": {
        "id": "HTloBPC4Mg6u"
      },
      "source": [
        "#ANALYSIS OF CRIME AGAINST WOMEN FROM 2001 TO 2014"
      ]
    },
    {
      "cell_type": "markdown",
      "metadata": {
        "id": "MXYTWy5zM4QM"
      },
      "source": [
        "##Crimes that are include are :"
      ]
    },
    {
      "cell_type": "markdown",
      "metadata": {
        "id": "hHTIluJYM9GM"
      },
      "source": [
        "'Rape'\n",
        "\n",
        "'Kidnapping and Abduction'\n",
        "\n",
        "'Dowry Deaths'\n",
        "\n",
        "'Assault on women with intent to outrage her modesty'\n",
        "\n",
        "'Insult to modesty of Women','Cruelty by Husband or his Relatives'\n",
        "\n",
        "'Importation of Girls'\n",
        "\n",
        "States and Union Territories\n",
        "\n",
        "District\n",
        "\n",
        "Yea"
      ]
    },
    {
      "cell_type": "markdown",
      "metadata": {
        "id": "Wi_Yab4FNSYD"
      },
      "source": [
        "#OVERVIEW"
      ]
    },
    {
      "cell_type": "code",
      "metadata": {
        "id": "6oY3lNVgNUrL"
      },
      "source": [
        "import pandas as pd \n",
        "import numpy as np\n",
        "import matplotlib.pyplot as plt\n",
        "import seaborn as sns"
      ],
      "execution_count": null,
      "outputs": []
    },
    {
      "cell_type": "code",
      "metadata": {
        "id": "hdF_FFNiNe2r"
      },
      "source": [
        "df=pd.read_csv(\"crimes_against_women_2001-2014.csv\")\n",
        "print(\"***** First Five Rows of Data *****\")\n",
        "print()\n",
        "df.head()"
      ],
      "execution_count": null,
      "outputs": []
    },
    {
      "cell_type": "code",
      "metadata": {
        "id": "RHvfpYvmODAv"
      },
      "source": [
        "print(\"***** Number of states or union territories with duplicates we have in Data *****\")\n",
        "print()\n",
        "states=df['STATE/UT'].unique()\n",
        "print(\"Number of states/territories with duplicates: \", len(states))\n",
        "print()\n",
        "print(states)"
      ],
      "execution_count": null,
      "outputs": []
    },
    {
      "cell_type": "code",
      "metadata": {
        "id": "VDtW2zQsOJGG"
      },
      "source": [
        "#REMOVING DUPLICATES\n",
        "df[\"STATE/UT\"]=df.apply(lambda row:row['STATE/UT'].replace(\" \",\"\").lower(),axis=1)\n",
        "df['STATE/UT'].replace(\"delhiut\",'delhi',inplace=True)"
      ],
      "execution_count": null,
      "outputs": []
    },
    {
      "cell_type": "code",
      "metadata": {
        "id": "0_00D2BXONxD"
      },
      "source": [
        "print(\"***** Number of states or union territories without duplicates we have in Data *****\")\n",
        "print()\n",
        "states=df['STATE/UT'].unique()\n",
        "print(\"Number of states/territories without duplicates: \", len(states))\n",
        "print()\n",
        "print(states)"
      ],
      "execution_count": null,
      "outputs": []
    },
    {
      "cell_type": "markdown",
      "metadata": {
        "id": "C5d7982oOW-J"
      },
      "source": [
        "#CHECKING NULL VALUES IF ANY"
      ]
    },
    {
      "cell_type": "code",
      "metadata": {
        "id": "E3_dKXy2ObMr"
      },
      "source": [
        "df.isnull().sum()"
      ],
      "execution_count": null,
      "outputs": []
    },
    {
      "cell_type": "code",
      "metadata": {
        "id": "4mKjtmxiOj2z"
      },
      "source": [
        "#Dropping \"Unnamed\" Column\n",
        "df=df.drop(['Unnamed: 0'],axis=1)"
      ],
      "execution_count": null,
      "outputs": []
    },
    {
      "cell_type": "code",
      "metadata": {
        "id": "u4nsCoHiOn7D"
      },
      "source": [
        "df['total_crimes']=(df['Rape']+df['Kidnapping and Abduction']+df['Dowry Deaths']+\n",
        "                       df['Assault on women with intent to outrage her modesty']+\n",
        "                       df['Insult to modesty of Women']+df['Cruelty by Husband or his Relatives']+\n",
        "                       df['Importation of Girls'])"
      ],
      "execution_count": null,
      "outputs": []
    },
    {
      "cell_type": "code",
      "metadata": {
        "id": "ZQbH7tvBOvlD"
      },
      "source": [
        "def with_hue(data,feature,ax):\n",
        "    \n",
        "    #Numnber of categories\n",
        "    num_of_cat=len([x for x in data[feature].unique() if x==x])\n",
        "    \n",
        "    bars=ax.patches\n",
        "    \n",
        "    for ind in range(num_of_cat):\n",
        "        ##     Get every hue bar\n",
        "        ##     ex. 8 X categories, 4 hues =>\n",
        "        ##    [0, 8, 16, 24] are hue bars for 1st X category\n",
        "        hueBars=bars[ind:][::num_of_cat] \n",
        "        # Get the total height (for percentages)\n",
        "        total=sum([x.get_height() for x in hueBars])\n",
        "        #Printing percentages on bar\n",
        "        for bar in hueBars:\n",
        "            percentage='{:.1f}%'.format(100 * bar.get_height()/total)\n",
        "            ax.text(bar.get_x()+bar.get_width()/2.0,\n",
        "                   bar.get_height(),\n",
        "                   percentage,\n",
        "                    ha=\"center\",va=\"bottom\",fontweight='bold',fontsize=10)\n",
        "    \n",
        "\n",
        "    \n",
        "def without_hue(data,feature,ax):\n",
        "    \n",
        "    total=float(len(data))\n",
        "    bars_plot=ax.patches\n",
        "    \n",
        "    for bars in bars_plot:\n",
        "        percentage = '{:.1f}%'.format(100 * bars.get_height()/total)\n",
        "        x = bars.get_x() + bars.get_width()/2.0\n",
        "        y = bars.get_height()\n",
        "        ax.text(x, y+2,y,ha='center',fontweight='bold',fontsize=7)"
      ],
      "execution_count": null,
      "outputs": []
    },
    {
      "cell_type": "code",
      "metadata": {
        "id": "0t99_hFsO4H7"
      },
      "source": [
        "value_count=list(df[\"STATE/UT\"].value_counts())\n",
        "print(\"***** Value counts of STATES/UT *****\")\n",
        "print()\n",
        "print(value_count)"
      ],
      "execution_count": null,
      "outputs": []
    },
    {
      "cell_type": "markdown",
      "metadata": {
        "id": "jSWW4Fr2PCbK"
      },
      "source": [
        "#YEAR BY YEAR ANALYSIS"
      ]
    },
    {
      "cell_type": "code",
      "metadata": {
        "id": "d29ccbNFPIkt"
      },
      "source": [
        "#total_crimes\n",
        "crimes=['Rape','Kidnapping and Abduction','Dowry Deaths',\n",
        "        'Assault on women with intent to outrage her modesty',\n",
        "        'Insult to modesty of Women','Cruelty by Husband or his Relatives',\n",
        "        'Importation of Girls','total_crimes']\n",
        "\n",
        "df1=pd.DataFrame()\n",
        "for i in crimes:\n",
        "    df_crimes=df.groupby(['Year'])[i].sum()\n",
        "    df1[i]=df_crimes\n",
        "\n",
        "print(\"***** Total number of crimes from 2001 to 2014 *****\")\n",
        "print()\n",
        "df1"
      ],
      "execution_count": null,
      "outputs": []
    },
    {
      "cell_type": "code",
      "metadata": {
        "id": "4pOO--6VPVyT"
      },
      "source": [
        "sns.set_theme(style='white',context='notebook')\n",
        "\n",
        "fig=plt.figure(figsize=(16,8))\n",
        "\n",
        "ax=plt.axes()\n",
        "ax.set_facecolor(\"#F2EDD7FF\")\n",
        "fig.patch.set_facecolor(\"#F2EDD7FF\")\n",
        "\n",
        "ax.spines['top'].set_visible(False)\n",
        "ax.spines['left'].set_visible(False)\n",
        "ax.spines['right'].set_visible(False)\n",
        "ax.grid(linestyle=\"--\",axis=\"y\",color='gray')\n",
        "\n",
        "lower_year=2001\n",
        "upper_year=2014\n",
        "arr=[]\n",
        "for i in range(lower_year,upper_year+1):\n",
        "    arr.append(i)\n",
        "arr=np.array(arr)\n",
        "a=sns.barplot(data=df1,x=arr,y='total_crimes',palette='rocket_r')\n",
        "ax.set_xticklabels(ax.get_xticklabels(),rotation = 90)\n",
        "plt.text(0.5,540000,\"Crime rate against women increases year by year\",fontweight='bold',fontsize=20)\n",
        "plt.xticks(fontweight='bold')\n",
        "plt.yticks(fontweight='bold')\n",
        "plt.xlabel(\"Year\",fontweight='bold')\n",
        "plt.ylabel(\"total_crimes\",fontweight='bold')\n",
        "plt.title(\"Total Number Of Crimes In Each Year\",fontweight='bold',fontsize=20)\n",
        "without_hue(df1,'total_crimes',a)\n",
        "plt.show()"
      ],
      "execution_count": null,
      "outputs": []
    },
    {
      "cell_type": "code",
      "metadata": {
        "id": "3urrZC5LPqLq"
      },
      "source": [
        "def plotting_cat_features(nrows,ncols,cat_columns):\n",
        "    \n",
        "    f,ax=plt.subplots(nrows=nrows,ncols=ncols,figsize=(16,25))\n",
        "    f.patch.set_facecolor('#F2EDD7FF')\n",
        "    #Setting background and foreground color\n",
        "    for i in range(0,nrows):\n",
        "        for j in range(0,ncols):\n",
        "            ax[i][j].set_facecolor('#F2EDD7FF')\n",
        "\n",
        "    #Plotting count plot \n",
        "    for i in range(0,nrows):\n",
        "        for j in range(0,ncols):\n",
        "            a1=sns.barplot(data=df1,x=df1.index,y=cat_columns[i*(nrows-2)+j],palette='rocket',ax=ax[i][j])\n",
        "            without_hue(df,cat_columns[i-1],a1)\n",
        "            #Dealing with spines\n",
        "            ax[i][j].spines['top'].set_visible(False)\n",
        "            ax[i][j].spines['right'].set_visible(False)\n",
        "            ax[i][j].spines['left'].set_visible(False)\n",
        "            ax[i][j].grid(linestyle=\"--\",axis='y',color='gray')"
      ],
      "execution_count": null,
      "outputs": []
    },
    {
      "cell_type": "code",
      "metadata": {
        "id": "TR8jKnnlPvjL"
      },
      "source": [
        "print(\"********** How each crime varying year by year **********\")\n",
        "print()\n",
        "plotting_cat_features(4,2,crimes)"
      ],
      "execution_count": null,
      "outputs": []
    },
    {
      "cell_type": "markdown",
      "metadata": {
        "id": "pJYWbR2TP4lz"
      },
      "source": [
        "#CRIME RATE INCREMENT YEAR BY YEAR"
      ]
    },
    {
      "cell_type": "code",
      "metadata": {
        "id": "jbyhP3WLP5ws"
      },
      "source": [
        "sns.set_theme(style='white',context='notebook')\n",
        "\n",
        "fig=plt.figure(figsize=(16,8))\n",
        "\n",
        "ax=plt.axes()\n",
        "ax.set_facecolor(\"#F2EDD7FF\")\n",
        "fig.patch.set_facecolor(\"#F2EDD7FF\")\n",
        "\n",
        "ax.spines['top'].set_visible(False)\n",
        "ax.spines['left'].set_visible(False)\n",
        "ax.spines['right'].set_visible(False)\n",
        "ax.grid(linestyle=\"--\",axis=\"y\",color='gray')\n",
        "\n",
        "lower_year=2001\n",
        "upper_year=2014\n",
        "arr=[]\n",
        "for i in range(lower_year,upper_year+1):\n",
        "    arr.append(i)\n",
        "arr=np.array(arr)\n",
        "\n",
        "a=sns.lineplot(data=df1,palette='gnuplot_r',linestyle=\"dashed\")#,x=arr,y='Rape',hue_order=crimes,palette='rocket_r')\n",
        "\n",
        "ax.set_xticklabels(ax.get_xticklabels(),rotation = 90)\n",
        "#plt.text(0.5,540000,\"Crime rate against women increases year by year\",fontweight='bold',fontsize=20)\n",
        "plt.xticks(fontweight='bold')\n",
        "plt.yticks(fontweight='bold')\n",
        "plt.xlabel(\"Year\",fontweight='bold')\n",
        "plt.ylabel(\"crime rate\",fontweight='bold')\n",
        "plt.title(\"Crime Rate against Women in India\",fontweight='bold',fontsize=20)\n",
        "plt.show()"
      ],
      "execution_count": null,
      "outputs": []
    },
    {
      "cell_type": "markdown",
      "metadata": {
        "id": "ru6oHj-uQGJJ"
      },
      "source": [
        "#TOTAL NUMBER OF EACH CATEGORY CRIME 2001 TO 2014"
      ]
    },
    {
      "cell_type": "code",
      "metadata": {
        "id": "M-cK17tuQHHy"
      },
      "source": [
        "crimes=['Rape','Kidnapping and Abduction','Dowry Deaths',\n",
        "        'Assault on women with intent to outrage her modesty',\n",
        "        'Insult to modesty of Women','Cruelty by Husband or his Relatives',\n",
        "        'Importation of Girls']\n",
        "\n",
        "df_top_crimes=pd.DataFrame(columns=['crimes',\"total\"])\n",
        "for i in crimes:\n",
        "    df_top_crimes=df_top_crimes.append({'crimes':i ,'total':df[i].sum(axis=0)},ignore_index=True)\n",
        "    \n",
        "df_top_crimes=df_top_crimes.sort_values(by='total',ascending=False)\n",
        "\n",
        "df_top_crimes\n",
        "\n",
        "list_crimes_number=list(df_top_crimes['total'])\n",
        "list_crimes=list(df_top_crimes['crimes'])\n",
        "fig=plt.figure(figsize=(12,8))\n",
        "\n",
        "ax=plt.axes()\n",
        "ax.set_facecolor(\"#F2EDD7FF\")\n",
        "fig.patch.set_facecolor(\"#F2EDD7FF\")\n",
        "\n",
        "colors=['yellowgreen', 'gold', 'lightskyblue', 'lightcoral','lightpink','teal','green']\n",
        "#patches,text=plt.pie(list_crimes_number,colors=colors,labels=list_crimes_number,autopct='%1.1f%%')\n",
        "plt.pie(list_crimes_number,colors=colors,labels=list_crimes,autopct='%1.2f%%',shadow=True)\n",
        "#plt.legend()\n",
        "plt.title(\"Distribution of Crimes from 2001 t0 2014\",fontweight='bold',fontsize=16)\n",
        "plt.axis('equal')\n",
        "plt.tight_layout()\n",
        "plt.show()"
      ],
      "execution_count": null,
      "outputs": []
    },
    {
      "cell_type": "code",
      "metadata": {
        "id": "npAOT8n3QUtm"
      },
      "source": [
        "sns.set_theme(style='white',context='notebook')\n",
        "\n",
        "fig=plt.figure(figsize=(16,8))\n",
        "\n",
        "ax=plt.axes()\n",
        "ax.set_facecolor(\"#F2EDD7FF\")\n",
        "fig.patch.set_facecolor(\"#F2EDD7FF\")\n",
        "\n",
        "ax.spines['top'].set_visible(False)\n",
        "ax.spines['left'].set_visible(False)\n",
        "ax.spines['right'].set_visible(False)\n",
        "ax.grid(linestyle=\"--\",axis=\"y\",color='gray')\n",
        "\n",
        "a=sns.barplot(data=df_top_crimes,y='total',x='crimes',palette='rocket')\n",
        "ax.set_xticklabels(ax.get_xticklabels(),rotation =90)\n",
        "#plt.text(0.5,540000,\"Crime rate against women increases year by year\",fontweight='bold',fontsize=20)\n",
        "plt.xticks(fontweight='bold')\n",
        "plt.yticks(fontweight='bold')\n",
        "plt.xlabel(\"Year\",fontweight='bold')\n",
        "plt.ylabel(\"total_crimes\",fontweight='bold')\n",
        "plt.text(2,1700000, \"Highest No. of crime: Cruelty by Husband\\n\\nLowest No. of Crime: Importation of Girls\",fontweight='bold',fontsize=15)\n",
        "without_hue(df_top_crimes,'total',a)\n",
        "plt.show()"
      ],
      "execution_count": null,
      "outputs": []
    },
    {
      "cell_type": "markdown",
      "metadata": {
        "id": "94atbFXBQZ-y"
      },
      "source": [
        "#COMPARISON BETWEEN 2001 AND 2014"
      ]
    },
    {
      "cell_type": "code",
      "metadata": {
        "id": "zg3VIfPsQbRi"
      },
      "source": [
        "df_2001=df1.loc[df1.index==2001]\n",
        "df_2014=df1.loc[df1.index==2014]\n",
        "\n",
        "df_2001=df_2001.drop([\"total_crimes\"],axis=1)\n",
        "df_2014=df_2014.drop([\"total_crimes\"],axis=1)\n",
        "crimes_in_2001=list(df_2001.iloc[0])\n",
        "crimes_in_2014=list(df_2014.iloc[0])\n",
        "\n",
        "f,ax=plt.subplots(1,2,figsize=(20,8))\n",
        "f.patch.set_facecolor('#F2EDD7FF')\n",
        "#Setting background and foreground color\n",
        "for j in range(0,2):\n",
        "    ax[j].set_facecolor('#F2EDD7FF')\n",
        "    \n",
        "ax[0].pie(crimes_in_2001,autopct='%1.2f%%',shadow=True)\n",
        "ax[0].text(0,1.4,\"2001\",fontweight='bold',fontsize=20)\n",
        "ax[1].pie(crimes_in_2014,autopct='%1.2f%%',shadow=True)\n",
        "ax[0].text(3.4,1.4,\"2014\",fontweight='bold',fontsize=20)\n",
        "ax[0].legend(labels=df_2001.columns,loc='lower right')\n",
        "\n",
        "plt.show()"
      ],
      "execution_count": null,
      "outputs": []
    },
    {
      "cell_type": "markdown",
      "metadata": {
        "id": "uYAMJCUrQkSq"
      },
      "source": [
        "#STATE BY STATE ANALYSIS"
      ]
    },
    {
      "cell_type": "code",
      "metadata": {
        "id": "M9tAsxpTQlMC"
      },
      "source": [
        "print(\"***** Total number of Unique States/Union Territories we have in Data *****\")\n",
        "print()\n",
        "states=df['STATE/UT'].unique()\n",
        "print(\"Number of states/territories without duplicates: \", len(states))\n",
        "print()\n",
        "print(states)"
      ],
      "execution_count": null,
      "outputs": []
    },
    {
      "cell_type": "code",
      "metadata": {
        "id": "TP12QSGNQsmi"
      },
      "source": [
        "crimes=['Rape','Kidnapping and Abduction','Dowry Deaths',\n",
        "        'Assault on women with intent to outrage her modesty',\n",
        "        'Insult to modesty of Women','Cruelty by Husband or his Relatives',\n",
        "        'Importation of Girls','total_crimes']\n",
        "\n",
        "df_state=pd.DataFrame()\n",
        "for i in crimes:\n",
        "    df_state_crimes=df.groupby(['STATE/UT'])[i].sum()\n",
        "    df_state[i]=df_state_crimes\n",
        "\n",
        "print(\"***** Each cateogry of crimes in each state from 2001 to 2014 *****\")\n",
        "print()\n",
        "df_state=df_state.sort_values(by='total_crimes',ascending=False)\n",
        "df_state.reset_index()"
      ],
      "execution_count": null,
      "outputs": []
    },
    {
      "cell_type": "code",
      "metadata": {
        "id": "4b3sz5PxQ6ur"
      },
      "source": [
        "def without_hue_state(data,feature,ax):\n",
        "    \n",
        "    total=data['total_crimes'].sum()\n",
        "    bars_plot=ax.patches\n",
        "    \n",
        "    for bars in bars_plot:\n",
        "        percentage = '{:.1f}%'.format(100 * bars.get_height()/total)\n",
        "        x = bars.get_x() + bars.get_width()/2.0\n",
        "        y = bars.get_height()\n",
        "        ax.text(x, y,percentage,ha='center',fontweight='bold',fontsize=10)"
      ],
      "execution_count": null,
      "outputs": []
    },
    {
      "cell_type": "code",
      "metadata": {
        "id": "8iDhlQ2RRAqG"
      },
      "source": [
        "sns.set_theme(style='white',context='notebook')\n",
        "\n",
        "fig=plt.figure(figsize=(20,10))\n",
        "\n",
        "ax=plt.axes()\n",
        "ax.set_facecolor(\"#F2EDD7FF\")\n",
        "fig.patch.set_facecolor(\"#F2EDD7FF\")\n",
        "\n",
        "ax.spines['top'].set_visible(False)\n",
        "ax.spines['left'].set_visible(False)\n",
        "ax.spines['right'].set_visible(False)\n",
        "ax.grid(linestyle=\"--\",axis=\"y\",color='gray')\n",
        "\n",
        "a=sns.barplot(data=df_state,x=df_state.index,y='total_crimes',palette='rocket')\n",
        "\n",
        "ax.set_xticklabels(ax.get_xticklabels(),rotation = 90)\n",
        "plt.text(16,520000,\"Crime Rte Against State Wise\\nState with highest crimes: UttarPradesh 10.9%\\nState with lowest crimes: Lashadweep 0.01%\",fontweight='bold',fontsize=20)\n",
        "plt.xticks(fontweight='bold')\n",
        "plt.yticks(fontweight='bold')\n",
        "plt.xlabel(\"Year\",fontweight='bold')\n",
        "plt.ylabel(\"total_crimes\",fontweight='bold')\n",
        "plt.title(\"Total Number Of Crimes In Each State/UT\",fontweight='bold',fontsize=20)\n",
        "without_hue_state(df_state,'total_crimes',a)\n",
        "plt.show()"
      ],
      "execution_count": null,
      "outputs": []
    },
    {
      "cell_type": "markdown",
      "metadata": {
        "id": "rmydElytRN8i"
      },
      "source": [
        "#HIGHEST CRIME RATES TOP 5 STATES 2001 to 2014"
      ]
    },
    {
      "cell_type": "markdown",
      "metadata": {
        "id": "H308-QYgRTK0"
      },
      "source": [
        "Uttar Pradesh\n",
        "\n",
        "Andhra Pradesh\n",
        "\n",
        "West Bengal\n",
        "\n",
        "Rajasthan\n",
        "\n",
        "Madhya Pradesh"
      ]
    },
    {
      "cell_type": "code",
      "metadata": {
        "id": "GiWYFXmxRQIM"
      },
      "source": [
        "df_state.head()"
      ],
      "execution_count": null,
      "outputs": []
    },
    {
      "cell_type": "markdown",
      "metadata": {
        "id": "BWHbjkcVR2Oq"
      },
      "source": [
        "#LEAST CRIME RATES FIVE STATES 2001 to 2014"
      ]
    },
    {
      "cell_type": "markdown",
      "metadata": {
        "id": "-HOjpzP1SCVR"
      },
      "source": [
        "Sikkim\n",
        "\n",
        "Nagaland\n",
        "\n",
        "d&nhaveli\n",
        "\n",
        "daman&diu\n",
        "\n",
        "lakshadweep"
      ]
    },
    {
      "cell_type": "code",
      "metadata": {
        "id": "4MrL-9_NR_Ga"
      },
      "source": [
        "df_state.tail()\n"
      ],
      "execution_count": null,
      "outputs": []
    },
    {
      "cell_type": "markdown",
      "metadata": {
        "id": "14MpnYMLSRhi"
      },
      "source": [
        "#HIGHEST NUMBER OF RAPE CRIME IN TOP FIVE STATES"
      ]
    },
    {
      "cell_type": "code",
      "metadata": {
        "id": "8uJnDMqXceLv"
      },
      "source": [
        "df_state_rape=df_state.sort_values(by=\"Rape\",ascending=False)\n",
        "df_highr=df_state_rape.iloc[:,0:1].head()\n",
        "df_highr.reset_index(inplace=True)\n",
        "fig=plt.figure(figsize=(20,5))\n",
        "\n",
        "ax=plt.axes()\n",
        "ax.set_facecolor(\"#F2EDD7FF\")\n",
        "fig.patch.set_facecolor(\"#F2EDD7FF\")\n",
        "\n",
        "\n",
        "plt.pie(df_highr[\"Rape\"],colors=colors,labels=df_highr['STATE/UT'],autopct='%1.2f%%',shadow=True)\n",
        "plt.tight_layout()\n",
        "plt.show()\n",
        "#df_state_rape[df_state_rape.index,df_state_rape['Rape']].head()"
      ],
      "execution_count": null,
      "outputs": []
    },
    {
      "cell_type": "markdown",
      "metadata": {
        "id": "oRhGRKBncy7R"
      },
      "source": [
        "#HIGHEST NUMBER OF ASSAULT ON WOMEN CRIME"
      ]
    },
    {
      "cell_type": "code",
      "metadata": {
        "id": "h9arV4Lfc0rA"
      },
      "source": [
        "df_state_assault=df_state.sort_values(by='Assault on women with intent to outrage her modesty',ascending=False)\n",
        "df_higha=df_state_assault.iloc[:,[3]].head()\n",
        "\n",
        "\n",
        "fig=plt.figure(figsize=(20,5))\n",
        "\n",
        "ax=plt.axes()\n",
        "ax.set_facecolor(\"#F2EDD7FF\")\n",
        "fig.patch.set_facecolor(\"#F2EDD7FF\")\n",
        "\n",
        "\n",
        "plt.pie(df_higha['Assault on women with intent to outrage her modesty'],colors=colors,labels=df_higha.index,autopct='%1.2f%%',shadow=True)\n",
        "plt.tight_layout()\n",
        "plt.show()"
      ],
      "execution_count": null,
      "outputs": []
    },
    {
      "cell_type": "markdown",
      "metadata": {
        "id": "Aa8Jijcyc-YC"
      },
      "source": [
        "#HIGHEST NUMBER OF KIDNAPPING AND ABDUCTION CRIME"
      ]
    },
    {
      "cell_type": "code",
      "metadata": {
        "id": "NuaoaUhyc_qY"
      },
      "source": [
        "df_state_kidnapping=df_state.sort_values(by='Kidnapping and Abduction',ascending=False)\n",
        "df_highk=df_state_kidnapping.iloc[:,[1]].head()\n",
        "\n",
        "\n",
        "fig=plt.figure(figsize=(20,5))\n",
        "\n",
        "ax=plt.axes()\n",
        "ax.set_facecolor(\"#F2EDD7FF\")\n",
        "fig.patch.set_facecolor(\"#F2EDD7FF\")\n",
        "\n",
        "\n",
        "plt.pie(df_highk[\"Kidnapping and Abduction\"],colors=colors,labels=df_highk.index,autopct='%1.2f%%',shadow=True)\n",
        "plt.tight_layout()\n",
        "plt.show()"
      ],
      "execution_count": null,
      "outputs": []
    },
    {
      "cell_type": "markdown",
      "metadata": {
        "id": "FCHMYDWkdH53"
      },
      "source": [
        "#HIGHEST NUMBER OF DOWRY DEATHS"
      ]
    },
    {
      "cell_type": "code",
      "metadata": {
        "id": "EUQ1K2cbdI4h"
      },
      "source": [
        "df_state_kidnapping=df_state.sort_values(by='Dowry Deaths',ascending=False)\n",
        "df_highk=df_state_kidnapping.iloc[:,[2]].head()\n",
        "\n",
        "\n",
        "fig=plt.figure(figsize=(20,5))\n",
        "\n",
        "ax=plt.axes()\n",
        "ax.set_facecolor(\"#F2EDD7FF\")\n",
        "fig.patch.set_facecolor(\"#F2EDD7FF\")\n",
        "\n",
        "\n",
        "plt.pie(df_highk[\"Dowry Deaths\"],colors=colors,labels=df_highk.index,autopct='%1.2f%%',shadow=True)\n",
        "plt.tight_layout()\n",
        "plt.show()"
      ],
      "execution_count": null,
      "outputs": []
    },
    {
      "cell_type": "markdown",
      "metadata": {
        "id": "jRownzPrdOWA"
      },
      "source": [
        "#HIGHEST NUMBER OF INSULT TO MODESTY OF WOMEN"
      ]
    },
    {
      "cell_type": "code",
      "metadata": {
        "id": "OFheEenodPS4"
      },
      "source": [
        "df_state_kidnapping=df_state.sort_values(by='Insult to modesty of Women',ascending=False)\n",
        "df_highk=df_state_kidnapping.iloc[:,[4]].head()\n",
        "\n",
        "\n",
        "fig=plt.figure(figsize=(20,5))\n",
        "\n",
        "ax=plt.axes()\n",
        "ax.set_facecolor(\"#F2EDD7FF\")\n",
        "fig.patch.set_facecolor(\"#F2EDD7FF\")\n",
        "\n",
        "\n",
        "plt.pie(df_highk['Insult to modesty of Women'],colors=colors,labels=df_highk.index,autopct='%1.2f%%',shadow=True)\n",
        "plt.tight_layout()\n",
        "plt.show()"
      ],
      "execution_count": null,
      "outputs": []
    },
    {
      "cell_type": "markdown",
      "metadata": {
        "id": "BRlAkFDjdVh4"
      },
      "source": [
        "# HIGHEST NUMBER OF CRUELTY BY HUSBAND CRIME"
      ]
    },
    {
      "cell_type": "code",
      "metadata": {
        "id": "r-yPPk0ZdWi4"
      },
      "source": [
        "df_state_kidnapping=df_state.sort_values(by='Cruelty by Husband or his Relatives',ascending=False)\n",
        "df_highk=df_state_kidnapping.iloc[:,[5]].head()\n",
        "\n",
        "\n",
        "fig=plt.figure(figsize=(20,5))\n",
        "\n",
        "ax=plt.axes()\n",
        "ax.set_facecolor(\"#F2EDD7FF\")\n",
        "fig.patch.set_facecolor(\"#F2EDD7FF\")\n",
        "\n",
        "\n",
        "plt.pie(df_highk['Cruelty by Husband or his Relatives'],colors=colors,labels=df_highk.index,autopct='%1.2f%%',shadow=True)\n",
        "plt.tight_layout()\n",
        "plt.show()"
      ],
      "execution_count": null,
      "outputs": []
    },
    {
      "cell_type": "markdown",
      "metadata": {
        "id": "GHwQYPuEdeKa"
      },
      "source": [
        "#HIGHEST NUMBER OF IMPORTATION OF GIRLS CRIME"
      ]
    },
    {
      "cell_type": "code",
      "metadata": {
        "id": "BRrowz7pdfeA"
      },
      "source": [
        "df_state_kidnapping=df_state.sort_values(by='Importation of Girls',ascending=False)\n",
        "df_highk=df_state_kidnapping.iloc[:,[6]].head()\n",
        "\n",
        "\n",
        "fig=plt.figure(figsize=(20,5))\n",
        "\n",
        "ax=plt.axes()\n",
        "ax.set_facecolor(\"#F2EDD7FF\")\n",
        "fig.patch.set_facecolor(\"#F2EDD7FF\")\n",
        "\n",
        "\n",
        "plt.pie(df_highk['Importation of Girls'],colors=colors,labels=df_highk.index,autopct='%1.2f%%',shadow=True)\n",
        "plt.tight_layout()\n",
        "plt.show()"
      ],
      "execution_count": null,
      "outputs": []
    },
    {
      "cell_type": "markdown",
      "metadata": {
        "id": "fH4ImYY0d1lo"
      },
      "source": [
        "#WE WILL EXAMINE TOP THREE STATES WITH HIGHEST CRIME RATES"
      ]
    },
    {
      "cell_type": "markdown",
      "metadata": {
        "id": "torkdS1sd6OI"
      },
      "source": [
        "##Uttar Pradesh"
      ]
    },
    {
      "cell_type": "code",
      "metadata": {
        "id": "elIUSVM-d3QI"
      },
      "source": [
        "df_up=df_state.loc[df_state.index=='uttarpradesh']\n",
        "df_up"
      ],
      "execution_count": null,
      "outputs": []
    },
    {
      "cell_type": "code",
      "metadata": {
        "id": "mcXuw1G2eH3B"
      },
      "source": [
        "crime_up=['Rape','Kidnapping and Abduction','Dowry Deaths',\n",
        "        'Assault on women with intent to outrage her modesty',\n",
        "        'Insult to modesty of Women','Cruelty by Husband or his Relatives',\n",
        "        'Importation of Girls']\n",
        "\n",
        "df_crime_up=pd.DataFrame(columns=['Crimes in UP',\"total\"])\n",
        "for i in crime_up:\n",
        "    df_crime_up=df_crime_up.append({'Crimes in UP':i ,'total':df_up[i].sum(axis=0)},ignore_index=True)\n",
        "    \n",
        "df_crime_up=df_crime_up.sort_values(by='total',ascending=False)\n",
        "\n",
        "print(\"***** Total count of each crime from 2001 to 2014 in Uttar Pradesh *****\")\n",
        "print()\n",
        "df_crime_up"
      ],
      "execution_count": null,
      "outputs": []
    },
    {
      "cell_type": "code",
      "metadata": {
        "id": "qV666oq5eOK3"
      },
      "source": [
        "fig=plt.figure(figsize=(20,5))\n",
        "\n",
        "ax=plt.axes()\n",
        "ax.set_facecolor(\"#F2EDD7FF\")\n",
        "fig.patch.set_facecolor(\"#F2EDD7FF\")\n",
        "\n",
        "\n",
        "plt.pie(df_crime_up['total'],colors=colors,labels=df_crime_up['Crimes in UP'],autopct='%1.2f%%',shadow=True)\n",
        "plt.title(\"Crime Distribution in Uttar Pradesh\",fontweight='bold',fontsize=15)\n",
        "\n",
        "plt.tight_layout()\n",
        "plt.show()"
      ],
      "execution_count": null,
      "outputs": []
    },
    {
      "cell_type": "code",
      "metadata": {
        "id": "1d8FzJjzeYKo"
      },
      "source": [
        "sns.set_theme(style='white',context='notebook')\n",
        "\n",
        "fig=plt.figure(figsize=(16,8))\n",
        "\n",
        "ax=plt.axes()\n",
        "ax.set_facecolor(\"#F2EDD7FF\")\n",
        "fig.patch.set_facecolor(\"#F2EDD7FF\")\n",
        "\n",
        "ax.spines['top'].set_visible(False)\n",
        "ax.spines['left'].set_visible(False)\n",
        "ax.spines['right'].set_visible(False)\n",
        "ax.grid(linestyle=\"--\",axis=\"y\",color='gray')\n",
        "\n",
        "a=sns.barplot(data=df_crime_up,x=\"Crimes in UP\",y='total',palette='rocket_r')\n",
        "ax.set_xticklabels(ax.get_xticklabels(),rotation = 90)\n",
        "plt.text(2,155000,\"Crime rate against women in Uttar Pradesh\\nHighest Crime : Cruelty by husband\",fontweight='bold',fontsize=20)\n",
        "plt.xticks(fontweight='bold')\n",
        "plt.yticks(fontweight='bold')\n",
        "plt.xlabel(\"Year\",fontweight='bold')\n",
        "plt.ylabel(\"total_crimes\",fontweight='bold')\n",
        "plt.title(\"Total Number Of Crimes In Uttar Pradesh\",fontweight='bold',fontsize=20)\n",
        "without_hue(df_crime_up,'total_crimes',a)\n",
        "plt.show()"
      ],
      "execution_count": null,
      "outputs": []
    },
    {
      "cell_type": "code",
      "metadata": {
        "id": "5UeMfOt9esl_"
      },
      "source": [
        "\n",
        "crime_up=['Rape','Kidnapping and Abduction','Dowry Deaths',\n",
        "        'Assault on women with intent to outrage her modesty',\n",
        "        'Insult to modesty of Women','Cruelty by Husband or his Relatives',\n",
        "        'Importation of Girls','total_crimes']\n",
        "\n",
        "df_up_year=df.loc[df['STATE/UT']=='uttarpradesh']\n",
        "\n",
        "df1_up_yearwise=pd.DataFrame()\n",
        "for i in crime_up:\n",
        "    df_crimes_up=df_up_year.groupby(['Year'])[i].sum()\n",
        "    df1_up_yearwise[i]=df_crimes_up\n",
        "\n",
        "print(\"***** Total number of crimes from in Uttar Pradesh year wise 2001 to 2014*****\")\n",
        "print()\n",
        "df1_up_yearwise=df1_up_yearwise.sort_values(by='total_crimes',ascending=False)\n",
        "df1_up_yearwise"
      ],
      "execution_count": null,
      "outputs": []
    },
    {
      "cell_type": "code",
      "metadata": {
        "id": "vUnOfT2cevZQ"
      },
      "source": [
        "fig=plt.figure(figsize=(16,8))\n",
        "\n",
        "ax=plt.axes()\n",
        "ax.set_facecolor(\"#F2EDD7FF\")\n",
        "fig.patch.set_facecolor(\"#F2EDD7FF\")\n",
        "\n",
        "ax.spines['top'].set_visible(False)\n",
        "ax.spines['left'].set_visible(False)\n",
        "ax.spines['right'].set_visible(False)\n",
        "ax.grid(linestyle=\"--\",axis=\"y\",color='gray')\n",
        "\n",
        "a=sns.barplot(data=df1_up_yearwise,x=df1_up_yearwise.index,y='total_crimes',palette='rocket_r')\n",
        "ax.set_xticklabels(ax.get_xticklabels(),rotation = 90)\n",
        "plt.text(0.5,65000,\"Crime rate against women in UP yearwise\",fontweight='bold',fontsize=20)\n",
        "plt.xticks(fontweight='bold')\n",
        "plt.yticks(fontweight='bold')\n",
        "plt.xlabel(\"Year\",fontweight='bold')\n",
        "plt.ylabel(\"total_crimes\",fontweight='bold')\n",
        "plt.title(\"Total Number Of Crimes In Each Year\",fontweight='bold',fontsize=20)\n",
        "without_hue(df1_up_yearwise,'total_crimes',a)\n",
        "plt.show()"
      ],
      "execution_count": null,
      "outputs": []
    },
    {
      "cell_type": "code",
      "metadata": {
        "id": "O95Ap7mLe8it"
      },
      "source": [
        "sns.set_theme(style='white',context='notebook')\n",
        "\n",
        "fig=plt.figure(figsize=(16,8))\n",
        "\n",
        "ax=plt.axes()\n",
        "ax.set_facecolor(\"#F2EDD7FF\")\n",
        "fig.patch.set_facecolor(\"#F2EDD7FF\")\n",
        "\n",
        "ax.spines['top'].set_visible(False)\n",
        "ax.spines['left'].set_visible(False)\n",
        "ax.spines['right'].set_visible(False)\n",
        "ax.grid(linestyle=\"--\",axis=\"y\",color='gray')\n",
        "\n",
        "lower_year=2001\n",
        "upper_year=2014\n",
        "arr=[]\n",
        "for i in range(lower_year,upper_year+1):\n",
        "    arr.append(i)\n",
        "arr=np.array(arr)\n",
        "\n",
        "a=sns.lineplot(data=df1_up_yearwise,palette='gnuplot_r',linestyle=\"dashed\")#,x=arr,y='Rape',hue_order=crimes,palette='rocket_r')\n",
        "\n",
        "ax.set_xticklabels(ax.get_xticklabels(),rotation = 90)\n",
        "#plt.text(0.5,540000,\"Crime rate against women increases year by year\",fontweight='bold',fontsize=20)\n",
        "plt.xticks(fontweight='bold')\n",
        "plt.yticks(fontweight='bold')\n",
        "plt.xlabel(\"Year\",fontweight='bold')\n",
        "plt.ylabel(\"crime rate\",fontweight='bold')\n",
        "plt.title(\"Crime Rate against Women in Uttar Pradesh\",fontweight='bold',fontsize=20)\n",
        "plt.show()"
      ],
      "execution_count": null,
      "outputs": []
    },
    {
      "cell_type": "markdown",
      "metadata": {
        "id": "8VbObbjofGMF"
      },
      "source": [
        "##2001 VS 2014 In UP"
      ]
    },
    {
      "cell_type": "code",
      "metadata": {
        "id": "BGnBK183fHdb"
      },
      "source": [
        "df_2001=df1_up_yearwise.loc[df1.index==2001]\n",
        "df_2014=df1_up_yearwise.loc[df1.index==2014]\n",
        "\n",
        "df_2001=df_2001.drop([\"total_crimes\"],axis=1)\n",
        "df_2014=df_2014.drop([\"total_crimes\"],axis=1)\n",
        "crimes_in_2001=list(df_2001.iloc[0])\n",
        "crimes_in_2014=list(df_2014.iloc[0])\n",
        "\n",
        "f,ax=plt.subplots(1,2,figsize=(20,8))\n",
        "f.patch.set_facecolor('#F2EDD7FF')\n",
        "#Setting background and foreground color\n",
        "for j in range(0,2):\n",
        "    ax[j].set_facecolor('#F2EDD7FF')\n",
        "    \n",
        "ax[0].pie(crimes_in_2001,autopct='%1.2f%%',shadow=True)\n",
        "ax[0].text(0,1.4,\"2001 In UP\",fontweight='bold',fontsize=20)\n",
        "ax[1].pie(crimes_in_2014,autopct='%1.2f%%',shadow=True)\n",
        "ax[0].text(3.4,1.4,\"2014 In UP\",fontweight='bold',fontsize=20)\n",
        "ax[0].legend(labels=df_2001.columns,loc='lower right')\n",
        "\n",
        "plt.show()"
      ],
      "execution_count": null,
      "outputs": []
    },
    {
      "cell_type": "markdown",
      "metadata": {
        "id": "ydNyq8PofPeD"
      },
      "source": [
        "##ANDHRA PRADESH"
      ]
    },
    {
      "cell_type": "code",
      "metadata": {
        "id": "6ab1YR8ufRRu"
      },
      "source": [
        "df_ap=df_state.loc[df_state.index=='andhrapradesh']\n",
        "crime_ap=['Rape','Kidnapping and Abduction','Dowry Deaths',\n",
        "        'Assault on women with intent to outrage her modesty',\n",
        "        'Insult to modesty of Women','Cruelty by Husband or his Relatives',\n",
        "        'Importation of Girls']\n",
        "\n",
        "df_crime_ap=pd.DataFrame(columns=['Crimes in AP',\"total\"])\n",
        "for i in crime_ap:\n",
        "    df_crime_ap=df_crime_ap.append({'Crimes in AP':i ,'total':df_ap[i].sum(axis=0)},ignore_index=True)\n",
        "    \n",
        "df_crime_ap=df_crime_ap.sort_values(by='total',ascending=False)\n",
        "\n",
        "print(\"***** Total count of each crime from 2001 to 2014 in Andhra Pradesh *****\")\n",
        "print()\n",
        "df_crime_ap"
      ],
      "execution_count": null,
      "outputs": []
    },
    {
      "cell_type": "code",
      "metadata": {
        "id": "wpW7jU1hfZfW"
      },
      "source": [
        "fig=plt.figure(figsize=(20,5))\n",
        "\n",
        "ax=plt.axes()\n",
        "ax.set_facecolor(\"#F2EDD7FF\")\n",
        "fig.patch.set_facecolor(\"#F2EDD7FF\")\n",
        "\n",
        "\n",
        "plt.pie(df_crime_ap['total'],colors=colors,labels=df_crime_ap['Crimes in AP'],autopct='%1.2f%%',shadow=True)\n",
        "plt.title(\"Crime Distribution in Andhra Pradesh\",fontweight='bold',fontsize=15)\n",
        "plt.tight_layout()\n",
        "plt.show()"
      ],
      "execution_count": null,
      "outputs": []
    },
    {
      "cell_type": "code",
      "metadata": {
        "id": "HgnjKbcufxzT"
      },
      "source": [
        "sns.set_theme(style='white',context='notebook')\n",
        "\n",
        "fig=plt.figure(figsize=(16,8))\n",
        "\n",
        "ax=plt.axes()\n",
        "ax.set_facecolor(\"#F2EDD7FF\")\n",
        "fig.patch.set_facecolor(\"#F2EDD7FF\")\n",
        "\n",
        "ax.spines['top'].set_visible(False)\n",
        "ax.spines['left'].set_visible(False)\n",
        "ax.spines['right'].set_visible(False)\n",
        "ax.grid(linestyle=\"--\",axis=\"y\",color='gray')\n",
        "\n",
        "a=sns.barplot(data=df_crime_ap,x=\"Crimes in AP\",y='total',palette='rocket_r')\n",
        "ax.set_xticklabels(ax.get_xticklabels(),rotation = 90)\n",
        "plt.text(2,155000,\"Crime rate against women in Andhra Pradesh\\nHighest Crime : Cruelty by husband\",fontweight='bold',fontsize=20)\n",
        "plt.xticks(fontweight='bold')\n",
        "plt.yticks(fontweight='bold')\n",
        "plt.xlabel(\"Year\",fontweight='bold')\n",
        "plt.ylabel(\"total_crimes\",fontweight='bold')\n",
        "plt.title(\"Total Number Of Crimes In Andhra Pradesh\",fontweight='bold',fontsize=20)\n",
        "without_hue(df_crime_ap,'total_crimes',a)\n",
        "plt.show()"
      ],
      "execution_count": null,
      "outputs": []
    },
    {
      "cell_type": "code",
      "metadata": {
        "id": "_N2HdCqkf2r7"
      },
      "source": [
        "crime_ap=['Rape','Kidnapping and Abduction','Dowry Deaths',\n",
        "        'Assault on women with intent to outrage her modesty',\n",
        "        'Insult to modesty of Women','Cruelty by Husband or his Relatives',\n",
        "        'Importation of Girls','total_crimes']\n",
        "\n",
        "df_ap_year=df.loc[df['STATE/UT']=='andhrapradesh']\n",
        "\n",
        "df1_ap_yearwise=pd.DataFrame()\n",
        "for i in crime_ap:\n",
        "    df_crimes_ap=df_ap_year.groupby(['Year'])[i].sum()\n",
        "    df1_ap_yearwise[i]=df_crimes_ap\n",
        "\n",
        "print(\"***** Total number of crimes from in Andhra Pradesh year wise 2001 to 2014*****\")\n",
        "print()\n",
        "df1_ap_yearwise=df1_ap_yearwise.sort_values(by='total_crimes',ascending=False)\n",
        "df1_ap_yearwise"
      ],
      "execution_count": null,
      "outputs": []
    },
    {
      "cell_type": "code",
      "metadata": {
        "id": "hMfXmcRjf9Ai"
      },
      "source": [
        "fig=plt.figure(figsize=(16,8))\n",
        "\n",
        "ax=plt.axes()\n",
        "ax.set_facecolor(\"#F2EDD7FF\")\n",
        "fig.patch.set_facecolor(\"#F2EDD7FF\")\n",
        "\n",
        "ax.spines['top'].set_visible(False)\n",
        "ax.spines['left'].set_visible(False)\n",
        "ax.spines['right'].set_visible(False)\n",
        "ax.grid(linestyle=\"--\",axis=\"y\",color='gray')\n",
        "\n",
        "a=sns.barplot(data=df1_ap_yearwise,x=df1_ap_yearwise.index,y='total_crimes',palette='rocket_r')\n",
        "ax.set_xticklabels(ax.get_xticklabels(),rotation = 90)\n",
        "plt.text(0.5,55000,\"Crime rate against women in AP yearwise\",fontweight='bold',fontsize=20)\n",
        "plt.xticks(fontweight='bold')\n",
        "plt.yticks(fontweight='bold')\n",
        "plt.xlabel(\"Year\",fontweight='bold')\n",
        "plt.ylabel(\"total_crimes\",fontweight='bold')\n",
        "plt.title(\"Total Number Of Crimes In Each Year\",fontweight='bold',fontsize=20)\n",
        "without_hue(df1_ap_yearwise,'total_crimes',a)\n",
        "plt.show()"
      ],
      "execution_count": null,
      "outputs": []
    },
    {
      "cell_type": "code",
      "metadata": {
        "id": "E9Q_wtQXgEfA"
      },
      "source": [
        "sns.set_theme(style='white',context='notebook')\n",
        "\n",
        "fig=plt.figure(figsize=(16,8))\n",
        "\n",
        "ax=plt.axes()\n",
        "ax.set_facecolor(\"#F2EDD7FF\")\n",
        "fig.patch.set_facecolor(\"#F2EDD7FF\")\n",
        "\n",
        "ax.spines['top'].set_visible(False)\n",
        "ax.spines['left'].set_visible(False)\n",
        "ax.spines['right'].set_visible(False)\n",
        "ax.grid(linestyle=\"--\",axis=\"y\",color='gray')\n",
        "\n",
        "a=sns.lineplot(data=df1_ap_yearwise,palette='gnuplot_r',linestyle=\"dashed\")#,x=arr,y='Rape',hue_order=crimes,palette='rocket_r')\n",
        "\n",
        "ax.set_xticklabels(ax.get_xticklabels(),rotation = 90)\n",
        "#plt.text(0.5,540000,\"Crime rate against women increases year by year\",fontweight='bold',fontsize=20)\n",
        "plt.xticks(fontweight='bold')\n",
        "plt.yticks(fontweight='bold')\n",
        "plt.xlabel(\"Year\",fontweight='bold')\n",
        "plt.ylabel(\"crime rate\",fontweight='bold')\n",
        "plt.title(\"Crime Rate against Women in Andhra Pradesh\",fontweight='bold',fontsize=20)\n",
        "plt.show()"
      ],
      "execution_count": null,
      "outputs": []
    },
    {
      "cell_type": "markdown",
      "metadata": {
        "id": "nBtnWQS2gaX6"
      },
      "source": [
        "##2001 VS 2014 IN ANDHRA PRADESH"
      ]
    },
    {
      "cell_type": "code",
      "metadata": {
        "id": "YN2nJ_OYgbe3"
      },
      "source": [
        "\n",
        "df_2001=df1_ap_yearwise.loc[df1.index==2001]\n",
        "df_2014=df1_ap_yearwise.loc[df1.index==2014]\n",
        "\n",
        "df_2001=df_2001.drop([\"total_crimes\"],axis=1)\n",
        "df_2014=df_2014.drop([\"total_crimes\"],axis=1)\n",
        "crimes_in_2001=list(df_2001.iloc[0])\n",
        "crimes_in_2014=list(df_2014.iloc[0])\n",
        "\n",
        "f,ax=plt.subplots(1,2,figsize=(20,8))\n",
        "f.patch.set_facecolor('#F2EDD7FF')\n",
        "#Setting background and foreground color\n",
        "for j in range(0,2):\n",
        "    ax[j].set_facecolor('#F2EDD7FF')\n",
        "    \n",
        "ax[0].pie(crimes_in_2001,autopct='%1.2f%%',shadow=True)\n",
        "ax[0].text(0,1.4,\"2001 In AP\",fontweight='bold',fontsize=20)\n",
        "ax[1].pie(crimes_in_2014,autopct='%1.2f%%',shadow=True)\n",
        "ax[0].text(3.4,1.4,\"2014 In AP\",fontweight='bold',fontsize=20)\n",
        "ax[0].legend(labels=df_2001.columns,loc='best')\n",
        "\n",
        "plt.show()"
      ],
      "execution_count": null,
      "outputs": []
    },
    {
      "cell_type": "markdown",
      "metadata": {
        "id": "38nuoD4MghY-"
      },
      "source": [
        "##WEST BENGAL"
      ]
    },
    {
      "cell_type": "code",
      "metadata": {
        "id": "S6nJ4AB0gii7"
      },
      "source": [
        "df_wb=df_state.loc[df_state.index=='westbengal']\n",
        "crime_wb=['Rape','Kidnapping and Abduction','Dowry Deaths',\n",
        "        'Assault on women with intent to outrage her modesty',\n",
        "        'Insult to modesty of Women','Cruelty by Husband or his Relatives',\n",
        "        'Importation of Girls']\n",
        "\n",
        "df_crime_wb=pd.DataFrame(columns=['Crimes in WB',\"total\"])\n",
        "for i in crime_wb:\n",
        "    df_crime_wb=df_crime_wb.append({'Crimes in WB':i ,'total':df_wb[i].sum(axis=0)},ignore_index=True)\n",
        "    \n",
        "df_crime_wb=df_crime_wb.sort_values(by='total',ascending=False)\n",
        "\n",
        "print(\"***** Total count of each crime from 2001 to 2014 in West Bengal *****\")\n",
        "print()\n",
        "df_crime_wb"
      ],
      "execution_count": null,
      "outputs": []
    },
    {
      "cell_type": "code",
      "metadata": {
        "id": "tYHWiuKIgxNe"
      },
      "source": [
        "fig=plt.figure(figsize=(20,5))\n",
        "\n",
        "ax=plt.axes()\n",
        "ax.set_facecolor(\"#F2EDD7FF\")\n",
        "fig.patch.set_facecolor(\"#F2EDD7FF\")\n",
        "\n",
        "\n",
        "plt.pie(df_crime_wb['total'],colors=colors,labels=df_crime_wb['Crimes in WB'],autopct='%1.2f%%',shadow=True)\n",
        "plt.title(\"Crime Distribution in West Bengal\",fontweight='bold',fontsize=15)\n",
        "plt.tight_layout()\n",
        "plt.show()"
      ],
      "execution_count": null,
      "outputs": []
    },
    {
      "cell_type": "code",
      "metadata": {
        "id": "3x19n1o5g_w6"
      },
      "source": [
        "sns.set_theme(style='white',context='notebook')\n",
        "\n",
        "fig=plt.figure(figsize=(16,8))\n",
        "\n",
        "ax=plt.axes()\n",
        "ax.set_facecolor(\"#F2EDD7FF\")\n",
        "fig.patch.set_facecolor(\"#F2EDD7FF\")\n",
        "\n",
        "ax.spines['top'].set_visible(False)\n",
        "ax.spines['left'].set_visible(False)\n",
        "ax.spines['right'].set_visible(False)\n",
        "ax.grid(linestyle=\"--\",axis=\"y\",color='gray')\n",
        "\n",
        "a=sns.barplot(data=df_crime_wb,x=\"Crimes in WB\",y='total',palette='rocket_r')\n",
        "ax.set_xticklabels(ax.get_xticklabels(),rotation = 90)\n",
        "plt.text(2,155000,\"Crime rate against women in West Bengal\\nHighest Crime : Cruelty by husband\",fontweight='bold',fontsize=20)\n",
        "plt.xticks(fontweight='bold')\n",
        "plt.yticks(fontweight='bold')\n",
        "plt.xlabel(\"Year\",fontweight='bold')\n",
        "plt.ylabel(\"total_crimes\",fontweight='bold')\n",
        "plt.title(\"Total Number Of Crimes In West Bengal\",fontweight='bold',fontsize=20)\n",
        "without_hue(df_crime_wb,'total_crimes',a)\n",
        "plt.show()"
      ],
      "execution_count": null,
      "outputs": []
    },
    {
      "cell_type": "code",
      "metadata": {
        "id": "13ZbHRFnhO0K"
      },
      "source": [
        "crime_wb=['Rape','Kidnapping and Abduction','Dowry Deaths',\n",
        "        'Assault on women with intent to outrage her modesty',\n",
        "        'Insult to modesty of Women','Cruelty by Husband or his Relatives',\n",
        "        'Importation of Girls','total_crimes']\n",
        "\n",
        "df_wb_year=df.loc[df['STATE/UT']=='westbengal']\n",
        "\n",
        "df1_wb_yearwise=pd.DataFrame()\n",
        "for i in crime_wb:\n",
        "    df_crimes_wb=df_wb_year.groupby(['Year'])[i].sum()\n",
        "    df1_wb_yearwise[i]=df_crimes_wb\n",
        "\n",
        "print(\"***** Total number of crimes from in Andhra Pradesh year wise 2001 to 2014*****\")\n",
        "print()\n",
        "df1_wb_yearwise=df1_wb_yearwise.sort_values(by='total_crimes',ascending=False)\n",
        "#df1_wb_yearwise\n",
        "fig=plt.figure(figsize=(16,8))\n",
        "\n",
        "ax=plt.axes()\n",
        "ax.set_facecolor(\"#F2EDD7FF\")\n",
        "fig.patch.set_facecolor(\"#F2EDD7FF\")\n",
        "\n",
        "ax.spines['top'].set_visible(False)\n",
        "ax.spines['left'].set_visible(False)\n",
        "ax.spines['right'].set_visible(False)\n",
        "ax.grid(linestyle=\"--\",axis=\"y\",color='gray')\n",
        "\n",
        "a=sns.barplot(data=df1_wb_yearwise,x=df1_wb_yearwise.index,y='total_crimes',palette='rocket_r')\n",
        "ax.set_xticklabels(ax.get_xticklabels(),rotation = 90)\n",
        "plt.text(0.5,55000,\"Crime rate against women in WB yearwise\",fontweight='bold',fontsize=20)\n",
        "plt.xticks(fontweight='bold')\n",
        "plt.yticks(fontweight='bold')\n",
        "plt.xlabel(\"Year\",fontweight='bold')\n",
        "plt.ylabel(\"total_crimes\",fontweight='bold')\n",
        "plt.title(\"Total Number Of Crimes In Each Year\",fontweight='bold',fontsize=20)\n",
        "without_hue(df1_wb_yearwise,'total_crimes',a)\n",
        "plt.show()"
      ],
      "execution_count": null,
      "outputs": []
    },
    {
      "cell_type": "code",
      "metadata": {
        "id": "3UvtUU6ahUjj"
      },
      "source": [
        "sns.set_theme(style='white',context='notebook')\n",
        "\n",
        "fig=plt.figure(figsize=(16,8))\n",
        "\n",
        "ax=plt.axes()\n",
        "ax.set_facecolor(\"#F2EDD7FF\")\n",
        "fig.patch.set_facecolor(\"#F2EDD7FF\")\n",
        "\n",
        "ax.spines['top'].set_visible(False)\n",
        "ax.spines['left'].set_visible(False)\n",
        "ax.spines['right'].set_visible(False)\n",
        "ax.grid(linestyle=\"--\",axis=\"y\",color='gray')\n",
        "\n",
        "a=sns.lineplot(data=df1_wb_yearwise,palette='gnuplot_r',linestyle=\"dashed\")#,x=arr,y='Rape',hue_order=crimes,palette='rocket_r')\n",
        "\n",
        "ax.set_xticklabels(ax.get_xticklabels(),rotation = 90)\n",
        "#plt.text(0.5,540000,\"Crime rate against women increases year by year\",fontweight='bold',fontsize=20)\n",
        "plt.xticks(fontweight='bold')\n",
        "plt.yticks(fontweight='bold')\n",
        "plt.xlabel(\"Year\",fontweight='bold')\n",
        "plt.ylabel(\"crime rate\",fontweight='bold')\n",
        "plt.title(\"Crime Rate against Women in West Bengal\",fontweight='bold',fontsize=20)\n",
        "plt.show()"
      ],
      "execution_count": null,
      "outputs": []
    },
    {
      "cell_type": "code",
      "metadata": {
        "id": "AfjS8m8ihZCP"
      },
      "source": [
        "df_2001=df1_wb_yearwise.loc[df1.index==2001]\n",
        "df_2014=df1_wb_yearwise.loc[df1.index==2014]\n",
        "\n",
        "df_2001=df_2001.drop([\"total_crimes\"],axis=1)\n",
        "df_2014=df_2014.drop([\"total_crimes\"],axis=1)\n",
        "crimes_in_2001=list(df_2001.iloc[0])\n",
        "crimes_in_2014=list(df_2014.iloc[0])\n",
        "\n",
        "f,ax=plt.subplots(1,2,figsize=(20,8))\n",
        "f.patch.set_facecolor('#F2EDD7FF')\n",
        "#Setting background and foreground color\n",
        "for j in range(0,2):\n",
        "    ax[j].set_facecolor('#F2EDD7FF')\n",
        "    \n",
        "ax[0].pie(crimes_in_2001,autopct='%1.2f%%',shadow=True)\n",
        "ax[0].text(0,1.4,\"2001 In WB\",fontweight='bold',fontsize=20)\n",
        "ax[1].pie(crimes_in_2014,autopct='%1.2f%%',shadow=True)\n",
        "ax[0].text(3.4,1.4,\"2014 In WB\",fontweight='bold',fontsize=20)\n",
        "ax[0].legend(labels=df_2001.columns,loc='best')\n",
        "\n",
        "plt.show()"
      ],
      "execution_count": null,
      "outputs": []
    }
  ]
}